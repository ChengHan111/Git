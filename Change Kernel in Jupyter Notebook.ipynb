{
 "cells": [
  {
   "cell_type": "code",
   "execution_count": null,
   "id": "short-synthetic",
   "metadata": {},
   "outputs": [],
   "source": [
    "这里记录一下如何对jupyter notebook 添加conda编译环境 即change kernel"
   ]
  },
  {
   "cell_type": "code",
   "execution_count": null,
   "id": "sized-sally",
   "metadata": {},
   "outputs": [],
   "source": [
    "首先需要确认当前conda环境(已经切换到你想要的环境中了)中是否拥有ipykernel，没有的话需要进行安装，pip安装一下就行\n",
    "之后输入\n",
    "python -m ipykernel install --user --name ####\n",
    "这里的名字是你定义当前环境在jupyter notebook中的名字"
   ]
  }
 ],
 "metadata": {
  "kernelspec": {
   "display_name": "Tensorflow_env",
   "language": "python",
   "name": "tensorflow_env"
  },
  "language_info": {
   "codemirror_mode": {
    "name": "ipython",
    "version": 3
   },
   "file_extension": ".py",
   "mimetype": "text/x-python",
   "name": "python",
   "nbconvert_exporter": "python",
   "pygments_lexer": "ipython3",
   "version": "3.7.9"
  }
 },
 "nbformat": 4,
 "nbformat_minor": 5
}
