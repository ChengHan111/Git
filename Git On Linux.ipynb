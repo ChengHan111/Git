{
 "cells": [
  {
   "cell_type": "code",
   "execution_count": null,
   "metadata": {},
   "outputs": [],
   "source": [
    "Before everything started, remember to quit conda first in command line, or it may create an SSH key by user \n",
    "not by admin. These are all through linux."
   ]
  },
  {
   "cell_type": "code",
   "execution_count": null,
   "metadata": {},
   "outputs": [],
   "source": [
    "ssh-keygen -t ed25519 -C \"tanhc1@163.com\""
   ]
  },
  {
   "cell_type": "code",
   "execution_count": null,
   "metadata": {},
   "outputs": [],
   "source": [
    "eval \"$(ssh-agent -s)\""
   ]
  },
  {
   "cell_type": "code",
   "execution_count": null,
   "metadata": {},
   "outputs": [],
   "source": [
    "ssh-add ~/.ssh/id_ed25519"
   ]
  },
  {
   "cell_type": "code",
   "execution_count": null,
   "metadata": {},
   "outputs": [],
   "source": [
    "xclip -selection clipboard < ~/.ssh/id_ed25519.pub #save it to clipboard! Now u can clip directly"
   ]
  },
  {
   "cell_type": "code",
   "execution_count": null,
   "metadata": {},
   "outputs": [],
   "source": [
    "Before we go into git, we need to first make sure we have already uses SSH key to peer with Github.com\n",
    "This can be easily found online. U can check the status by \"ssh -T git@github.com\""
   ]
  },
  {
   "cell_type": "code",
   "execution_count": null,
   "metadata": {},
   "outputs": [],
   "source": [
    "first cd to the folder u want to push\n",
    "\n",
    "ls #Check file \n",
    "\n",
    "first we need to config user.name and email\n",
    "\n",
    "git config --global user.name \"ChengHan111\"\n",
    "git config --global user.email \"tankhc1@163.com\" #should be peer with github accout"
   ]
  },
  {
   "cell_type": "code",
   "execution_count": null,
   "metadata": {},
   "outputs": [],
   "source": [
    "git init # To create a git repo\n",
    "\n",
    "ls -lah # look for hidden files as well, we can now see .git file"
   ]
  },
  {
   "cell_type": "code",
   "execution_count": null,
   "metadata": {},
   "outputs": [],
   "source": [
    "Add some stuffs about git: gitignore is a file that used to ban some of the files, like we donot want our\n",
    "    dataset uploaded to github, we can therefore ban all files with .csv. This part is showing how we create \n",
    "    an gitignore file and ban all files with .csv and ban a folder as well\n",
    "\n",
    "nano .gitignore #build a gitignore file\n",
    "\n",
    "write \"*.csv\n",
    "        notebooks/\n",
    "    \" into .gitignore file\n",
    "\n",
    "we can use \"cat .gitignore\" to view the file\n",
    "\n",
    "ls -lah can find the .gitignore file."
   ]
  },
  {
   "cell_type": "code",
   "execution_count": null,
   "metadata": {},
   "outputs": [],
   "source": [
    "git status #find changes in this branch.\n",
    "\n",
    "git add .gitignore #we add gitignore\n",
    "\n",
    "git status # we can find the status has changed (already added)\n",
    "\n",
    "git commit -m \"adding a gitignore file\" #-m represents a message\n",
    "\n",
    "We then go to github and create an empty repo, and use the \"git remote add origin git@github.com:ChengHan111/<\n",
    "name of your repo.git>\" to link it to this repo\n",
    "\n",
    "git push origin master (git push --set-upstream origin master can do the same job) \n",
    "# now we can push it since we have already commited it\n"
   ]
  },
  {
   "cell_type": "code",
   "execution_count": null,
   "metadata": {},
   "outputs": [],
   "source": [
    "By making a branch, you can make changes in branch without interfere with the origin master"
   ]
  },
  {
   "cell_type": "code",
   "execution_count": null,
   "metadata": {},
   "outputs": [],
   "source": [
    "git branch #can tell you which branch you are right now\n",
    "\n",
    "we can create a new branch by:\n",
    "    git branch branch_name \n",
    "\n",
    "    \n",
    "git branch #we can now see that there exists two branches right now.\n",
    "\n",
    "git checkout branch_name #we can now move to the new branch\n",
    "\n",
    "#Or if we use git checkout -b branch_name, we can make a new branch if there does not exist a old branch named \n",
    "#branch_name. We will directly go to the new created branch.\n"
   ]
  },
  {
   "cell_type": "code",
   "execution_count": null,
   "metadata": {},
   "outputs": [],
   "source": [
    "git log #tells you what comments have already been done\n",
    "\n",
    "git log --pretty \n",
    "\n",
    "git log --pretty=oneline #in different forms"
   ]
  },
  {
   "cell_type": "code",
   "execution_count": null,
   "metadata": {},
   "outputs": [],
   "source": [
    "if we made changes in branch,\n",
    "\n",
    "git status #check whether we changed anything, if yes:\n",
    "\n",
    "git add . # all changes added\n",
    "\n",
    "git commit -m \"new feature ....\"\n",
    "\n",
    "git push --set-upstream origin new_branch_name # commit to new branch. NOT ORIGIN!\n"
   ]
  },
  {
   "cell_type": "code",
   "execution_count": null,
   "metadata": {},
   "outputs": [],
   "source": [
    "After doing the above step, we will have two branches, click compare& pull request on Github, we can create new pull\n",
    "request, meaning that we want to change the master branch, we pull the request. Then github will automatically \n",
    "find whether there are conflicts with your new branch and master branch. \n",
    "\n",
    "If there is no conflict:\n",
    "    merge pull request can merge new branch's update to master branch. Then we can delete the new branch since\n",
    "    anything is up_to_date to the master branch.\n",
    "elif there is conflict:\n",
    "    (it will say on github: This branch has conflicts that must be resolved)\n",
    "    git checkout test2 #switch to branch name test2\n",
    "    we can see where is the conflict through github, we should keep one and delete the other one. (we are doing\n",
    "                                                                                                  changes on test2\n",
    "                                                                                                  remember always\n",
    "                                                                                                  makes changes \n",
    "                                                                                                  on branches.)\n",
    "    git add .\n",
    "    git commit #since we are comparing with each other, this commit will automatically say you are merging branch\n",
    "#     'master' into 'test2'\n",
    "    git push origin test2\n",
    "    \n",
    "    now we can click merge pull request in github.\n",
    "    \n",
    "\n",
    "Now the master branch has changed in github, but in local, we haven't updated yet. (If we have changes in remote (\n",
    "github), when we make changes locally, we cannot push it. What we have to do when github code has changed is that \n",
    "we should always git pull to make the local the same as remote side.)\n",
    "we now switch to the master branch and do git pull by:\n",
    "    git checkout master\n",
    "    \n",
    "    git pull\n",
    "    (\"git fetch\" can do the same thing) update to latest changes"
   ]
  }
 ],
 "metadata": {
  "kernelspec": {
   "display_name": "Python 3",
   "language": "python",
   "name": "python3"
  },
  "language_info": {
   "codemirror_mode": {
    "name": "ipython",
    "version": 3
   },
   "file_extension": ".py",
   "mimetype": "text/x-python",
   "name": "python",
   "nbconvert_exporter": "python",
   "pygments_lexer": "ipython3",
   "version": "3.7.6"
  }
 },
 "nbformat": 4,
 "nbformat_minor": 4
}
